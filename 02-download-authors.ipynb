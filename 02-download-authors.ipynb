{
 "cells": [
  {
   "cell_type": "markdown",
   "id": "49a97dbb",
   "metadata": {},
   "source": [
    "# Download EPSA 2019 authors"
   ]
  },
  {
   "cell_type": "code",
   "execution_count": 1,
   "id": "d68c4fed",
   "metadata": {},
   "outputs": [],
   "source": [
    "from selenium import webdriver\n",
    "import os\n",
    "import re\n",
    "import time"
   ]
  },
  {
   "cell_type": "markdown",
   "id": "7fbd2773",
   "metadata": {},
   "source": [
    "## Create download folder"
   ]
  },
  {
   "cell_type": "code",
   "execution_count": 2,
   "id": "c16c3438",
   "metadata": {},
   "outputs": [],
   "source": [
    "os.makedirs(\"html/authors\", exist_ok = True)"
   ]
  },
  {
   "cell_type": "markdown",
   "id": "b5221085",
   "metadata": {},
   "source": [
    "### Check whether downloading is already done"
   ]
  },
  {
   "cell_type": "markdown",
   "id": "cd47603f",
   "metadata": {},
   "source": [
    "The notebook will go through (and download) all author listings if any of them is missing."
   ]
  },
  {
   "cell_type": "code",
   "execution_count": 3,
   "id": "86f93143",
   "metadata": {
    "scrolled": false
   },
   "outputs": [],
   "source": [
    "download_required = True\n",
    "\n",
    "files = [f for f in os.listdir(\"html/authors\") if re.match(r'.*\\.html', f)]\n",
    "if len(files) > 0:\n",
    "    # look at numbers in downloaded authors\n",
    "    first_id = []\n",
    "    last_id = []\n",
    "    max_id = []\n",
    "    for i in files:\n",
    "        n = re.findall(r'\\d+', i)\n",
    "        # store 'x to y out of z' values\n",
    "        first_id.append(int(n[0]))\n",
    "        last_id.append(int(n[1]))\n",
    "        max_id.append(int(n[2]))\n",
    "\n",
    "    max_id = set(max_id)\n",
    "    assert len(max_id) == 1, \"Malformed author count.\"\n",
    "\n",
    "    # exit if we are already done\n",
    "    if 1 in set(first_id) and max(set(last_id)) == max(max_id):\n",
    "        print('All authors already downloaded.')\n",
    "        download_required = False"
   ]
  },
  {
   "cell_type": "markdown",
   "id": "b36ce26e",
   "metadata": {},
   "source": [
    "## Initiate Web driver"
   ]
  },
  {
   "cell_type": "code",
   "execution_count": 4,
   "id": "64a452f3",
   "metadata": {},
   "outputs": [],
   "source": [
    "if download_required:\n",
    "    driver = webdriver.Chrome('/Applications/chromedriver')\n",
    "    driver.get(\"https://app.oxfordabstracts.com/events/772/program-app/authors\")"
   ]
  },
  {
   "cell_type": "markdown",
   "id": "576ada23",
   "metadata": {},
   "source": [
    "## Loop through author listings"
   ]
  },
  {
   "cell_type": "code",
   "execution_count": 5,
   "id": "5916c97a",
   "metadata": {
    "scrolled": true
   },
   "outputs": [
    {
     "name": "stdout",
     "output_type": "stream",
     "text": [
      "Dowloading authors   1 1 to 20 of 1303\n",
      "Dowloading authors   2 21 to 40 of 1303\n",
      "Dowloading authors   3 41 to 60 of 1303\n",
      "Dowloading authors   4 61 to 80 of 1303\n",
      "Dowloading authors   5 81 to 100 of 1303\n",
      "Dowloading authors   6 101 to 120 of 1303\n",
      "Dowloading authors   7 121 to 140 of 1303\n",
      "Dowloading authors   8 141 to 160 of 1303\n",
      "Dowloading authors   9 161 to 180 of 1303\n",
      "Dowloading authors  10 181 to 200 of 1303\n",
      "Dowloading authors  11 201 to 220 of 1303\n",
      "Dowloading authors  12 221 to 240 of 1303\n",
      "Dowloading authors  13 241 to 260 of 1303\n",
      "Dowloading authors  14 261 to 280 of 1303\n",
      "Dowloading authors  15 281 to 300 of 1303\n",
      "Dowloading authors  16 301 to 320 of 1303\n",
      "Dowloading authors  17 321 to 340 of 1303\n",
      "Dowloading authors  18 341 to 360 of 1303\n",
      "Dowloading authors  19 361 to 380 of 1303\n",
      "Dowloading authors  20 381 to 400 of 1303\n",
      "Dowloading authors  21 401 to 420 of 1303\n",
      "Dowloading authors  22 421 to 440 of 1303\n",
      "Dowloading authors  23 441 to 460 of 1303\n",
      "Dowloading authors  24 461 to 480 of 1303\n",
      "Dowloading authors  25 481 to 500 of 1303\n",
      "Dowloading authors  26 501 to 520 of 1303\n",
      "Dowloading authors  27 521 to 540 of 1303\n",
      "Dowloading authors  28 541 to 560 of 1303\n",
      "Dowloading authors  29 561 to 580 of 1303\n",
      "Dowloading authors  30 581 to 600 of 1303\n",
      "Dowloading authors  31 601 to 620 of 1303\n",
      "Dowloading authors  32 621 to 640 of 1303\n",
      "Dowloading authors  33 641 to 660 of 1303\n",
      "Dowloading authors  34 661 to 680 of 1303\n",
      "Dowloading authors  35 681 to 700 of 1303\n",
      "Dowloading authors  36 701 to 720 of 1303\n",
      "Dowloading authors  37 721 to 740 of 1303\n",
      "Dowloading authors  38 741 to 760 of 1303\n",
      "Dowloading authors  39 761 to 780 of 1303\n",
      "Dowloading authors  40 781 to 800 of 1303\n",
      "Dowloading authors  41 801 to 820 of 1303\n",
      "Dowloading authors  42 821 to 840 of 1303\n",
      "Dowloading authors  43 841 to 860 of 1303\n",
      "Dowloading authors  44 861 to 880 of 1303\n",
      "Dowloading authors  45 881 to 900 of 1303\n",
      "Dowloading authors  46 901 to 920 of 1303\n",
      "Dowloading authors  47 921 to 940 of 1303\n",
      "Dowloading authors  48 941 to 960 of 1303\n",
      "Dowloading authors  49 961 to 980 of 1303\n",
      "Dowloading authors  50 981 to 1000 of 1303\n",
      "Dowloading authors  51 1001 to 1020 of 1303\n",
      "Dowloading authors  52 1021 to 1040 of 1303\n",
      "Dowloading authors  53 1041 to 1060 of 1303\n",
      "Dowloading authors  54 1061 to 1080 of 1303\n",
      "Dowloading authors  55 1081 to 1100 of 1303\n",
      "Dowloading authors  56 1101 to 1120 of 1303\n",
      "Dowloading authors  57 1121 to 1140 of 1303\n",
      "Dowloading authors  58 1141 to 1160 of 1303\n",
      "Dowloading authors  59 1161 to 1180 of 1303\n",
      "Dowloading authors  60 1181 to 1200 of 1303\n",
      "Dowloading authors  61 1201 to 1220 of 1303\n",
      "Dowloading authors  62 1221 to 1240 of 1303\n",
      "Dowloading authors  63 1241 to 1260 of 1303\n",
      "Dowloading authors  64 1261 to 1280 of 1303\n",
      "Dowloading authors  65 1281 to 1300 of 1303\n",
      "Dowloading authors  66 1301 to 1303 of 1303\n",
      "done\n"
     ]
    }
   ],
   "source": [
    "i = 0\n",
    "\n",
    "# loop until results counter says otherwise\n",
    "while download_required:\n",
    "    \n",
    "    i += 1\n",
    "    \n",
    "    # give it some time to load\n",
    "    time.sleep(7.5)\n",
    "    \n",
    "    # extract results string\n",
    "    r = driver.find_element_by_xpath(\".//span[@class='results__count']\").text\n",
    "    print(str(i).rjust(3) + \"Dowloading authors \" + \" \" + r)\n",
    "\n",
    "    # save a copy\n",
    "    f = \"html/authors/authors_\" + r.replace(\" \", \"_\") + \".html\"\n",
    "    with open(f, \"w\") as file:\n",
    "        file.write(driver.page_source)\n",
    "\n",
    "    # check if we reached the end\n",
    "    n = re.findall(r'\\d+', r)\n",
    "    if int(n[1]) == int(n[2]):\n",
    "        break\n",
    "\n",
    "    # if not, find first 'Next' button, click it, and loop\n",
    "    b = driver.find_element_by_xpath('.//button[@class=\"program__button\"][contains(., \"Next\")]')\n",
    "    b.click()\n",
    "\n",
    "print(\"done\")"
   ]
  },
  {
   "cell_type": "markdown",
   "id": "930760e5",
   "metadata": {},
   "source": [
    "Have a nice day."
   ]
  }
 ],
 "metadata": {
  "kernelspec": {
   "display_name": "Python 3",
   "language": "python",
   "name": "python3"
  },
  "language_info": {
   "codemirror_mode": {
    "name": "ipython",
    "version": 3
   },
   "file_extension": ".py",
   "mimetype": "text/x-python",
   "name": "python",
   "nbconvert_exporter": "python",
   "pygments_lexer": "ipython3",
   "version": "3.9.1"
  }
 },
 "nbformat": 4,
 "nbformat_minor": 5
}
